{
 "cells": [
  {
   "cell_type": "code",
   "execution_count": 330,
   "metadata": {
    "collapsed": true
   },
   "outputs": [],
   "source": [
    "import numpy as np\n",
    "import matplotlib.pyplot as plt\n",
    "import pandas as pd\n",
    "import seaborn as sns"
   ]
  },
  {
   "cell_type": "code",
   "execution_count": null,
   "metadata": {},
   "outputs": [],
   "source": []
  },
  {
   "cell_type": "code",
   "execution_count": 331,
   "metadata": {
    "collapsed": true
   },
   "outputs": [],
   "source": [
    "import scipy.io as sio"
   ]
  },
  {
   "cell_type": "code",
   "execution_count": 332,
   "metadata": {
    "collapsed": true
   },
   "outputs": [],
   "source": [
    "data = sio.loadmat('ex5data1.mat')"
   ]
  },
  {
   "cell_type": "code",
   "execution_count": 333,
   "metadata": {},
   "outputs": [
    {
     "data": {
      "text/plain": [
       "{'X': array([[-15.93675813],\n",
       "        [-29.15297922],\n",
       "        [ 36.18954863],\n",
       "        [ 37.49218733],\n",
       "        [-48.05882945],\n",
       "        [ -8.94145794],\n",
       "        [ 15.30779289],\n",
       "        [-34.70626581],\n",
       "        [  1.38915437],\n",
       "        [-44.38375985],\n",
       "        [  7.01350208],\n",
       "        [ 22.76274892]]), 'Xtest': array([[-33.31800399],\n",
       "        [-37.91216403],\n",
       "        [-51.20693795],\n",
       "        [ -6.13259585],\n",
       "        [ 21.26118327],\n",
       "        [-40.31952949],\n",
       "        [-14.54153167],\n",
       "        [ 32.55976024],\n",
       "        [ 13.39343255],\n",
       "        [ 44.20988595],\n",
       "        [ -1.14267768],\n",
       "        [-12.76686065],\n",
       "        [ 34.05450539],\n",
       "        [ 39.22350028],\n",
       "        [  1.97449674],\n",
       "        [ 29.6217551 ],\n",
       "        [-23.66962971],\n",
       "        [ -9.01180139],\n",
       "        [-55.94057091],\n",
       "        [-35.70859752],\n",
       "        [  9.51020533]]), 'Xval': array([[-16.74653578],\n",
       "        [-14.57747075],\n",
       "        [ 34.51575866],\n",
       "        [-47.01007574],\n",
       "        [ 36.97511905],\n",
       "        [-40.68611002],\n",
       "        [ -4.47201098],\n",
       "        [ 26.53363489],\n",
       "        [-42.7976831 ],\n",
       "        [ 25.37409938],\n",
       "        [-31.10955398],\n",
       "        [ 27.31176864],\n",
       "        [ -3.26386201],\n",
       "        [ -1.81827649],\n",
       "        [-40.7196624 ],\n",
       "        [-50.01324365],\n",
       "        [-17.41177155],\n",
       "        [  3.5881937 ],\n",
       "        [  7.08548026],\n",
       "        [ 46.28236902],\n",
       "        [ 14.61228909]]), '__globals__': [], '__header__': b'MATLAB 5.0 MAT-file, Platform: GLNXA64, Created on: Fri Nov  4 22:27:26 2011', '__version__': '1.0', 'y': array([[  2.13431051],\n",
       "        [  1.17325668],\n",
       "        [ 34.35910918],\n",
       "        [ 36.83795516],\n",
       "        [  2.80896507],\n",
       "        [  2.12107248],\n",
       "        [ 14.71026831],\n",
       "        [  2.61418439],\n",
       "        [  3.74017167],\n",
       "        [  3.73169131],\n",
       "        [  7.62765885],\n",
       "        [ 22.7524283 ]]), 'ytest': array([[  3.31688953],\n",
       "        [  5.39768952],\n",
       "        [  0.13042984],\n",
       "        [  6.1925982 ],\n",
       "        [ 17.08848712],\n",
       "        [  0.79950805],\n",
       "        [  2.82479183],\n",
       "        [ 28.62123334],\n",
       "        [ 17.04639081],\n",
       "        [ 55.38437334],\n",
       "        [  4.07936733],\n",
       "        [  8.27039793],\n",
       "        [ 31.32355102],\n",
       "        [ 39.15906103],\n",
       "        [  8.08727989],\n",
       "        [ 24.11134389],\n",
       "        [  2.4773548 ],\n",
       "        [  6.56606472],\n",
       "        [  6.0380888 ],\n",
       "        [  4.69273956],\n",
       "        [ 10.83004606]]), 'yval': array([[  4.17020201e+00],\n",
       "        [  4.06726280e+00],\n",
       "        [  3.18730676e+01],\n",
       "        [  1.06236562e+01],\n",
       "        [  3.18360213e+01],\n",
       "        [  4.95936972e+00],\n",
       "        [  4.45159880e+00],\n",
       "        [  2.22763185e+01],\n",
       "        [ -4.38738274e-05],\n",
       "        [  2.05038016e+01],\n",
       "        [  3.85834476e+00],\n",
       "        [  1.93650529e+01],\n",
       "        [  4.88376281e+00],\n",
       "        [  1.10971588e+01],\n",
       "        [  7.46170827e+00],\n",
       "        [  1.47693464e+00],\n",
       "        [  2.71916388e+00],\n",
       "        [  1.09269007e+01],\n",
       "        [  8.34871235e+00],\n",
       "        [  5.27819280e+01],\n",
       "        [  1.33573396e+01]])}"
      ]
     },
     "execution_count": 333,
     "metadata": {},
     "output_type": "execute_result"
    }
   ],
   "source": [
    "data"
   ]
  },
  {
   "cell_type": "code",
   "execution_count": 334,
   "metadata": {},
   "outputs": [],
   "source": [
    "def load_data(path):\n",
    "    data = sio.loadmat(path)\n",
    "    return map(np.ravel, [data['X'],data['y'],data['Xval'],data['yval'],data['Xtest'],data['ytest']])"
   ]
  },
  {
   "cell_type": "code",
   "execution_count": 335,
   "metadata": {
    "collapsed": true
   },
   "outputs": [],
   "source": [
    "x_train,y_train,x_val,y_val,x_test,y_test = load_data('ex5data1.mat')"
   ]
  },
  {
   "cell_type": "code",
   "execution_count": 336,
   "metadata": {},
   "outputs": [],
   "source": [
    "X, Xval, Xtest = [np.insert(x.reshape(x.shape[0], 1), 0, np.ones(x.shape[0]), axis=1) for x in (x_train, x_val, x_test)]"
   ]
  },
  {
   "cell_type": "code",
   "execution_count": 337,
   "metadata": {},
   "outputs": [
    {
     "data": {
      "text/plain": [
       "array([[  1.        , -15.93675813],\n",
       "       [  1.        , -29.15297922],\n",
       "       [  1.        ,  36.18954863],\n",
       "       [  1.        ,  37.49218733],\n",
       "       [  1.        , -48.05882945],\n",
       "       [  1.        ,  -8.94145794],\n",
       "       [  1.        ,  15.30779289],\n",
       "       [  1.        , -34.70626581],\n",
       "       [  1.        ,   1.38915437],\n",
       "       [  1.        , -44.38375985],\n",
       "       [  1.        ,   7.01350208],\n",
       "       [  1.        ,  22.76274892]])"
      ]
     },
     "execution_count": 337,
     "metadata": {},
     "output_type": "execute_result"
    }
   ],
   "source": [
    "X"
   ]
  },
  {
   "cell_type": "code",
   "execution_count": 338,
   "metadata": {},
   "outputs": [
    {
     "data": {
      "image/png": "[encoded data removed]",
      "text/plain": [
       "<matplotlib.figure.Figure at 0x119442a20>"
      ]
     },
     "metadata": {},
     "output_type": "display_data"
    }
   ],
   "source": [
    "plt.scatter(x_train,y_train,c = 'r',marker='x')\n",
    "plt.xlabel('Change in water level(x)')\n",
    "plt.ylabel('water flowing out of dam (y)')\n",
    "plt.grid()\n",
    "plt.show()"
   ]
  },
  {
   "cell_type": "code",
   "execution_count": 339,
   "metadata": {
    "collapsed": true
   },
   "outputs": [],
   "source": [
    "def linearfunction(theta,x):\n",
    "    return theta.T @x"
   ]
  },
  {
   "cell_type": "code",
   "execution_count": 340,
   "metadata": {},
   "outputs": [
    {
     "data": {
      "text/plain": [
       "array([ 1.,  1.])"
      ]
     },
     "execution_count": 340,
     "metadata": {},
     "output_type": "execute_result"
    }
   ],
   "source": [
    "theta =np.ones(X.shape[1])\n",
    "theta"
   ]
  },
  {
   "cell_type": "code",
   "execution_count": 341,
   "metadata": {
    "collapsed": true
   },
   "outputs": [],
   "source": [
    "def linearRegCostFunction(theta,x,y,l=1):\n",
    "    theta_reg = theta[1:]\n",
    "    m = x.shape[0]\n",
    "    #print(m,x.shape[1])\n",
    "    regularized_term = l*np.power(theta_reg,2).sum()/2/m\n",
    "    return np.power(x@theta-y,2).sum()/2/m+ regularized_term"
   ]
  },
  {
   "cell_type": "code",
   "execution_count": 342,
   "metadata": {},
   "outputs": [
    {
     "data": {
      "text/plain": [
       "303.99319222026429"
      ]
     },
     "execution_count": 342,
     "metadata": {},
     "output_type": "execute_result"
    }
   ],
   "source": [
    "linearRegCostFunction(theta,X,y_train)"
   ]
  },
  {
   "cell_type": "code",
   "execution_count": 343,
   "metadata": {},
   "outputs": [],
   "source": [
    "def regularized_linear_gradient(theta,x,y,l=1):\n",
    "    m= x.shape[0]\n",
    "    g = x.T@(x@theta-y)/m\n",
    "    regularized_term = theta.copy()\n",
    "    regularized_term[0] = 0\n",
    "    return g+regularized_term/m*l"
   ]
  },
  {
   "cell_type": "raw",
   "metadata": {},
   "source": [
    "  "
   ]
  },
  {
   "cell_type": "code",
   "execution_count": 344,
   "metadata": {},
   "outputs": [
    {
     "data": {
      "text/plain": [
       "array([ -15.30301567,  598.25074417])"
      ]
     },
     "execution_count": 344,
     "metadata": {},
     "output_type": "execute_result"
    }
   ],
   "source": [
    "regularized_linear_gradient(theta,X,y_train)"
   ]
  },
  {
   "cell_type": "code",
   "execution_count": 345,
   "metadata": {
    "collapsed": true
   },
   "outputs": [],
   "source": [
    "import scipy.optimize as opt"
   ]
  },
  {
   "cell_type": "code",
   "execution_count": 346,
   "metadata": {
    "collapsed": true
   },
   "outputs": [],
   "source": [
    "def trainLinearReg(theta, x,y,l=1):\n",
    "    res = opt.minimize(fun=linearRegCostFunction,x0 = theta,\n",
    "                       method = 'TNC',args=(x,y,l),jac = regularized_linear_gradient,\n",
    "                      options = {'disp':True})\n",
    "    return res"
   ]
  },
  {
   "cell_type": "code",
   "execution_count": 347,
   "metadata": {
    "collapsed": true
   },
   "outputs": [],
   "source": [
    "theta_trained = trainLinearReg(theta,X,y_train,l=0).x"
   ]
  },
  {
   "cell_type": "code",
   "execution_count": 348,
   "metadata": {},
   "outputs": [
    {
     "data": {
      "text/plain": [
       "array([ 13.08790362,   0.36777923])"
      ]
     },
     "execution_count": 348,
     "metadata": {},
     "output_type": "execute_result"
    }
   ],
   "source": [
    "theta_trained"
   ]
  },
  {
   "cell_type": "code",
   "execution_count": 349,
   "metadata": {},
   "outputs": [
    {
     "data": {
      "image/png": "[encoded data removed]",
      "text/plain": [
       "<matplotlib.figure.Figure at 0x11a397198>"
      ]
     },
     "metadata": {},
     "output_type": "display_data"
    }
   ],
   "source": [
    "plt.scatter(X[:,1:], y_train,c = 'r',marker='x',label = 'Training dat')\n",
    "plt.plot(X[:,1], X@theta_trained, 'b',label = 'Prediction data')\n",
    "plt.legend(loc =2)\n",
    "plt.show()"
   ]
  },
  {
   "cell_type": "markdown",
   "metadata": {},
   "source": [
    "## plot learning curve"
   ]
  },
  {
   "cell_type": "code",
   "execution_count": 350,
   "metadata": {},
   "outputs": [],
   "source": [
    "def learningCurve(theta,x,y,x_val,y_val):\n",
    "    error_train = []\n",
    "    error_val = []\n",
    "    for i in range(1,13):\n",
    "        theta_i = trainLinearReg(theta,x[:i],y[:i]).x\n",
    "        error_train.append(linearRegCostFunction(theta_i,x[:i],y[:i],l =0))\n",
    "        error_val.append( linearRegCostFunction(theta_i,x_val,y_val,l =0 ))\n",
    "        \n",
    "    return np.array(error_train),np.array(error_val)"
   ]
  },
  {
   "cell_type": "code",
   "execution_count": 351,
   "metadata": {},
   "outputs": [
    {
     "data": {
      "text/plain": [
       "((12, 2), (12,))"
      ]
     },
     "execution_count": 351,
     "metadata": {},
     "output_type": "execute_result"
    }
   ],
   "source": [
    "X.shape, y_train.shape"
   ]
  },
  {
   "cell_type": "code",
   "execution_count": 352,
   "metadata": {},
   "outputs": [],
   "source": [
    "error_train,error_val = learningCurve(theta,X,y_train,Xval,y_val)"
   ]
  },
  {
   "cell_type": "code",
   "execution_count": 353,
   "metadata": {},
   "outputs": [],
   "source": [
    "train_num = np.arange(1,13)"
   ]
  },
  {
   "cell_type": "code",
   "execution_count": 354,
   "metadata": {},
   "outputs": [
    {
     "data": {
      "text/plain": [
       "array([ 1,  2,  3,  4,  5,  6,  7,  8,  9, 10, 11, 12])"
      ]
     },
     "execution_count": 354,
     "metadata": {},
     "output_type": "execute_result"
    }
   ],
   "source": [
    "train_num"
   ]
  },
  {
   "cell_type": "code",
   "execution_count": 355,
   "metadata": {},
   "outputs": [
    {
     "data": {
      "image/png": "[encoded data removed]",
      "text/plain": [
       "<matplotlib.figure.Figure at 0x116e7ec18>"
      ]
     },
     "metadata": {},
     "output_type": "display_data"
    }
   ],
   "source": [
    "plt.plot(train_num,error_train,'r',label = 'Trainning error')\n",
    "plt.plot(train_num,error_val,'b',label = 'Crossvalidation error')\n",
    "plt.xlabel('number of trainning examples')\n",
    "plt.ylabel('error')\n",
    "plt.legend(loc = 4)\n",
    "plt.show()"
   ]
  },
  {
   "cell_type": "markdown",
   "metadata": {},
   "source": [
    "## feature scaling"
   ]
  },
  {
   "cell_type": "code",
   "execution_count": 356,
   "metadata": {},
   "outputs": [
    {
     "data": {
      "text/plain": [
       "array([ 1.        , -5.08542635])"
      ]
     },
     "execution_count": 356,
     "metadata": {},
     "output_type": "execute_result"
    }
   ],
   "source": [
    "np.mean(X,axis = 0)"
   ]
  },
  {
   "cell_type": "code",
   "execution_count": 357,
   "metadata": {
    "collapsed": true
   },
   "outputs": [],
   "source": [
    "def featureNormalize(df):\n",
    "    return df.apply(lambda column: (column-column.mean())/column.std())"
   ]
  },
  {
   "cell_type": "markdown",
   "metadata": {},
   "source": [
    "## 重新加载数据"
   ]
  },
  {
   "cell_type": "code",
   "execution_count": 358,
   "metadata": {},
   "outputs": [],
   "source": [
    "X,y,Xval,yval,Xtest,ytest = load_data('ex5data1.mat')"
   ]
  },
  {
   "cell_type": "code",
   "execution_count": 359,
   "metadata": {},
   "outputs": [
    {
     "data": {
      "text/plain": [
       "array([-15.93675813, -29.15297922,  36.18954863,  37.49218733,\n",
       "       -48.05882945,  -8.94145794,  15.30779289, -34.70626581,\n",
       "         1.38915437, -44.38375985,   7.01350208,  22.76274892])"
      ]
     },
     "execution_count": 359,
     "metadata": {},
     "output_type": "execute_result"
    }
   ],
   "source": [
    "X"
   ]
  },
  {
   "cell_type": "code",
   "execution_count": 360,
   "metadata": {},
   "outputs": [],
   "source": [
    "def polyData(x,power = 8):\n",
    "    \n",
    "    df = pd.DataFrame({'f{}'.format(i): np.power(x,i)for i in range(1,power+1)})\n",
    "    return df"
   ]
  },
  {
   "cell_type": "code",
   "execution_count": 361,
   "metadata": {
    "collapsed": true
   },
   "outputs": [],
   "source": [
    "def prepare_data(*args,power= 8):\n",
    "    def prepare(x,power = power):\n",
    "        df = polyData(x)\n",
    "        df_scaling = featureNormalize(df)\n",
    "        ndarray = df_scaling.as_matrix()\n",
    "        return np.insert(ndarray,0,np.ones(ndarray.shape[0]),axis =1)\n",
    "    \n",
    "    return [prepare(x) for x in args ]"
   ]
  },
  {
   "cell_type": "code",
   "execution_count": 362,
   "metadata": {},
   "outputs": [
    {
     "data": {
      "text/html": [
       "<div>\n",
       "<style>\n",
       "    .dataframe thead tr:only-child th {\n",
       "        text-align: right;\n",
       "    }\n",
       "\n",
       "    .dataframe thead th {\n",
       "        text-align: left;\n",
       "    }\n",
       "\n",
       "    .dataframe tbody tr th {\n",
       "        vertical-align: top;\n",
       "    }\n",
       "</style>\n",
       "<table border=\"1\" class=\"dataframe\">\n",
       "  <thead>\n",
       "    <tr style=\"text-align: right;\">\n",
       "      <th></th>\n",
       "      <th>f1</th>\n",
       "      <th>f2</th>\n",
       "      <th>f3</th>\n",
       "    </tr>\n",
       "  </thead>\n",
       "  <tbody>\n",
       "    <tr>\n",
       "      <th>0</th>\n",
       "      <td>-15.936758</td>\n",
       "      <td>253.980260</td>\n",
       "      <td>-4047.621971</td>\n",
       "    </tr>\n",
       "    <tr>\n",
       "      <th>1</th>\n",
       "      <td>-29.152979</td>\n",
       "      <td>849.896197</td>\n",
       "      <td>-24777.006175</td>\n",
       "    </tr>\n",
       "    <tr>\n",
       "      <th>2</th>\n",
       "      <td>36.189549</td>\n",
       "      <td>1309.683430</td>\n",
       "      <td>47396.852168</td>\n",
       "    </tr>\n",
       "    <tr>\n",
       "      <th>3</th>\n",
       "      <td>37.492187</td>\n",
       "      <td>1405.664111</td>\n",
       "      <td>52701.422173</td>\n",
       "    </tr>\n",
       "    <tr>\n",
       "      <th>4</th>\n",
       "      <td>-48.058829</td>\n",
       "      <td>2309.651088</td>\n",
       "      <td>-110999.127750</td>\n",
       "    </tr>\n",
       "    <tr>\n",
       "      <th>5</th>\n",
       "      <td>-8.941458</td>\n",
       "      <td>79.949670</td>\n",
       "      <td>-714.866612</td>\n",
       "    </tr>\n",
       "    <tr>\n",
       "      <th>6</th>\n",
       "      <td>15.307793</td>\n",
       "      <td>234.328523</td>\n",
       "      <td>3587.052500</td>\n",
       "    </tr>\n",
       "    <tr>\n",
       "      <th>7</th>\n",
       "      <td>-34.706266</td>\n",
       "      <td>1204.524887</td>\n",
       "      <td>-41804.560890</td>\n",
       "    </tr>\n",
       "    <tr>\n",
       "      <th>8</th>\n",
       "      <td>1.389154</td>\n",
       "      <td>1.929750</td>\n",
       "      <td>2.680720</td>\n",
       "    </tr>\n",
       "    <tr>\n",
       "      <th>9</th>\n",
       "      <td>-44.383760</td>\n",
       "      <td>1969.918139</td>\n",
       "      <td>-87432.373590</td>\n",
       "    </tr>\n",
       "    <tr>\n",
       "      <th>10</th>\n",
       "      <td>7.013502</td>\n",
       "      <td>49.189211</td>\n",
       "      <td>344.988637</td>\n",
       "    </tr>\n",
       "    <tr>\n",
       "      <th>11</th>\n",
       "      <td>22.762749</td>\n",
       "      <td>518.142738</td>\n",
       "      <td>11794.353058</td>\n",
       "    </tr>\n",
       "  </tbody>\n",
       "</table>\n",
       "</div>"
      ],
      "text/plain": [
       "           f1           f2             f3\n",
       "0  -15.936758   253.980260   -4047.621971\n",
       "1  -29.152979   849.896197  -24777.006175\n",
       "2   36.189549  1309.683430   47396.852168\n",
       "3   37.492187  1405.664111   52701.422173\n",
       "4  -48.058829  2309.651088 -110999.127750\n",
       "5   -8.941458    79.949670    -714.866612\n",
       "6   15.307793   234.328523    3587.052500\n",
       "7  -34.706266  1204.524887  -41804.560890\n",
       "8    1.389154     1.929750       2.680720\n",
       "9  -44.383760  1969.918139  -87432.373590\n",
       "10   7.013502    49.189211     344.988637\n",
       "11  22.762749   518.142738   11794.353058"
      ]
     },
     "execution_count": 362,
     "metadata": {},
     "output_type": "execute_result"
    }
   ],
   "source": [
    "polyData(X,power = 3)"
   ]
  },
  {
   "cell_type": "code",
   "execution_count": 363,
   "metadata": {},
   "outputs": [
    {
     "data": {
      "text/plain": [
       "[array([[  1.00000000e+00,  -3.62140776e-01,  -7.55086688e-01,\n",
       "           1.82225876e-01,  -7.06189908e-01,   3.06617917e-01,\n",
       "          -5.90877673e-01,   3.44515797e-01,  -5.08481165e-01],\n",
       "        [  1.00000000e+00,  -8.03204845e-01,   1.25825266e-03,\n",
       "          -2.47936991e-01,  -3.27023420e-01,   9.33963187e-02,\n",
       "          -4.35817606e-01,   2.55416116e-01,  -4.48912493e-01],\n",
       "        [  1.00000000e+00,   1.37746700e+00,   5.84826715e-01,\n",
       "           1.24976856e+00,   2.45311974e-01,   9.78359696e-01,\n",
       "          -1.21556976e-02,   7.56568484e-01,  -1.70352114e-01],\n",
       "        [  1.00000000e+00,   1.42093988e+00,   7.06646754e-01,\n",
       "           1.35984559e+00,   3.95534038e-01,   1.10616178e+00,\n",
       "           1.25637135e-01,   8.71929081e-01,  -5.96376930e-02],\n",
       "        [  1.00000000e+00,  -1.43414853e+00,   1.85399982e+00,\n",
       "          -2.03716308e+00,   2.33143133e+00,  -2.41153626e+00,\n",
       "           2.60221195e+00,  -2.64567451e+00,   2.76608525e+00],\n",
       "        [  1.00000000e+00,  -1.28687086e-01,  -9.75968776e-01,\n",
       "           2.51385075e-01,  -7.39686869e-01,   3.16952928e-01,\n",
       "          -5.94996630e-01,   3.45811812e-01,  -5.08955348e-01],\n",
       "        [  1.00000000e+00,   6.80581552e-01,  -7.80028951e-01,\n",
       "           3.40655738e-01,  -7.11721115e-01,   3.26509131e-01,\n",
       "          -5.91790179e-01,   3.46829996e-01,  -5.08613048e-01],\n",
       "        [  1.00000000e+00,  -9.88534310e-01,   4.51358004e-01,\n",
       "          -6.01281871e-01,   9.29171228e-02,  -2.18472948e-01,\n",
       "          -1.41608474e-01,   3.94034925e-02,  -2.66692688e-01],\n",
       "        [  1.00000000e+00,   2.16075753e-01,  -1.07499276e+00,\n",
       "           2.66275156e-01,  -7.43369047e-01,   3.17561391e-01,\n",
       "          -5.95129245e-01,   3.45834898e-01,  -5.08960051e-01],\n",
       "        [  1.00000000e+00,  -1.31150068e+00,   1.42280595e+00,\n",
       "          -1.54812094e+00,   1.49339625e+00,  -1.51590767e+00,\n",
       "           1.38865478e+00,  -1.36830664e+00,   1.22414353e+00],\n",
       "        [  1.00000000e+00,   4.03776736e-01,  -1.01501039e+00,\n",
       "           2.73378511e-01,  -7.41976547e-01,   3.17741982e-01,\n",
       "          -5.95098361e-01,   3.45839115e-01,  -5.08959377e-01],\n",
       "        [  1.00000000e+00,   9.29375305e-01,  -4.19807932e-01,\n",
       "           5.10968368e-01,  -5.88623813e-01,   3.82615735e-01,\n",
       "          -5.59030004e-01,   3.61832357e-01,  -5.00664801e-01]])]"
      ]
     },
     "execution_count": 363,
     "metadata": {},
     "output_type": "execute_result"
    }
   ],
   "source": [
    "prepare_data(X)"
   ]
  },
  {
   "cell_type": "markdown",
   "metadata": {},
   "source": [
    "## 训练线性回归模型"
   ]
  },
  {
   "cell_type": "code",
   "execution_count": 364,
   "metadata": {
    "collapsed": true
   },
   "outputs": [],
   "source": [
    "X_poly,Xval_poly,Xtest_poly = prepare_data(X,Xval,Xtest)"
   ]
  },
  {
   "cell_type": "code",
   "execution_count": 365,
   "metadata": {},
   "outputs": [
    {
     "data": {
      "text/plain": [
       "(21, 9)"
      ]
     },
     "execution_count": 365,
     "metadata": {},
     "output_type": "execute_result"
    }
   ],
   "source": [
    "Xval_poly.shape"
   ]
  },
  {
   "cell_type": "code",
   "execution_count": 366,
   "metadata": {},
   "outputs": [
    {
     "data": {
      "text/plain": [
       "(21,)"
      ]
     },
     "execution_count": 366,
     "metadata": {},
     "output_type": "execute_result"
    }
   ],
   "source": [
    "yval.shape"
   ]
  },
  {
   "cell_type": "code",
   "execution_count": 367,
   "metadata": {},
   "outputs": [],
   "source": [
    "def poly_fitCurve(theta,X_poly,X,y):\n",
    "    plt.scatter(X,y,c = 'r',marker= 'x')\n",
    "    x= np.linspace(-60,60,1000)\n",
    "    x_poly = prepare_data(x)\n",
    "    #print(x_poly[0].shape)\n",
    "    plt.plot(x,x_poly[0]@theta,'b-')\n",
    "    plt.xlabel('Change in water level(x)')\n",
    "    plt.ylabel('Water flowing out of the dam (y)')\n",
    "    plt.show()"
   ]
  },
  {
   "cell_type": "code",
   "execution_count": 368,
   "metadata": {},
   "outputs": [],
   "source": [
    "def polynomial_train(X,X_poly,Xval_poly,y,yval,l=0):\n",
    "    theta = np.ones(X_poly.shape[1])\n",
    "    train_theta = trainLinearReg(theta,X_poly,y,l).x\n",
    "    # 绘出拟合曲线\n",
    "    poly_fitCurve(train_theta,X_poly, X,y)\n",
    "    \n",
    "    error_polytrain = []\n",
    "    error_polyval =[]\n",
    "    for i in range(1,X.shape[0]+1):\n",
    "        train_thetai = trainLinearReg(theta,X_poly[:i],y[:i],l ).x\n",
    "        error_polytrain.append(linearRegCostFunction(train_thetai,X_poly[:i],y[:i]))\n",
    "        #print(error_polytrain)\n",
    "        error_polyval.append(linearRegCostFunction(train_thetai,Xval_poly,yval))\n",
    "    #print(error_polyval)\n",
    "    sample_num = np.arange(1,13)\n",
    "    plt.plot(sample_num,error_polytrain,'r',label = 'Train')\n",
    "    plt.plot(sample_num,error_polyval,'b',label = 'Cross_validation')\n",
    "    plt.xlabel('Number of training examples')\n",
    "    plt.ylabel('Error')\n",
    "    plt.legend(loc = 2)\n",
    "    plt.title('Polynomial Regression Learning Curve (lambda = {})'.format(l))\n",
    "    plt.show()\n",
    "    \n",
    "  "
   ]
  },
  {
   "cell_type": "code",
   "execution_count": 369,
   "metadata": {
    "scrolled": true
   },
   "outputs": [
    {
     "data": {
      "image/png": "[encoded data removed]",
      "text/plain": [
       "<matplotlib.figure.Figure at 0x116cbf898>"
      ]
     },
     "metadata": {},
     "output_type": "display_data"
    },
    {
     "data": {
      "image/png": "[encoded data removed]",
      "text/plain": [
       "<matplotlib.figure.Figure at 0x116ff8c50>"
      ]
     },
     "metadata": {},
     "output_type": "display_data"
    }
   ],
   "source": [
    "polynomial_train(X,X_poly,Xval_poly,y,yval)"
   ]
  },
  {
   "cell_type": "code",
   "execution_count": 370,
   "metadata": {},
   "outputs": [
    {
     "data": {
      "image/png": "[encoded data removed]",
      "text/plain": [
       "<matplotlib.figure.Figure at 0x116a2cba8>"
      ]
     },
     "metadata": {},
     "output_type": "display_data"
    },
    {
     "data": {
      "image/png": "[encoded data removed]",
      "text/plain": [
       "<matplotlib.figure.Figure at 0x116beafd0>"
      ]
     },
     "metadata": {},
     "output_type": "display_data"
    }
   ],
   "source": [
    "polynomial_train(X,X_poly,Xval_poly,y,yval,l=1)"
   ]
  },
  {
   "cell_type": "code",
   "execution_count": 371,
   "metadata": {},
   "outputs": [
    {
     "data": {
      "image/png": "[encoded data removed]",
      "text/plain": [
       "<matplotlib.figure.Figure at 0x116a131d0>"
      ]
     },
     "metadata": {},
     "output_type": "display_data"
    },
    {
     "data": {
      "image/png": "[encoded data removed]",
      "text/plain": [
       "<matplotlib.figure.Figure at 0x105b7e860>"
      ]
     },
     "metadata": {},
     "output_type": "display_data"
    }
   ],
   "source": [
    "polynomial_train(X,X_poly,Xval_poly,y,yval,l=100)"
   ]
  },
  {
   "cell_type": "code",
   "execution_count": 372,
   "metadata": {
    "collapsed": true
   },
   "outputs": [],
   "source": [
    "l_candidate = [0, 0.001, 0.003, 0.01, 0.03, 0.1, 0.3, 1, 3, 10]\n",
    "training_cost, cv_cost = [], []\n",
    "theta_l = np.ones(X_poly.shape[1])"
   ]
  },
  {
   "cell_type": "code",
   "execution_count": 373,
   "metadata": {},
   "outputs": [
    {
     "data": {
      "text/plain": [
       "((12, 9), (12,), (21, 9), (21,))"
      ]
     },
     "execution_count": 373,
     "metadata": {},
     "output_type": "execute_result"
    }
   ],
   "source": [
    "X_poly.shape,y.shape,Xval_poly.shape,yval.shape"
   ]
  },
  {
   "cell_type": "code",
   "execution_count": 374,
   "metadata": {
    "collapsed": true
   },
   "outputs": [],
   "source": [
    "\n",
    "for i in l_candidate:\n",
    "    theta_l = np.ones(X_poly.shape[1])\n",
    "    res = trainLinearReg(theta_l,X_poly,y,i)\n",
    "    error_tr = linearRegCostFunction(res.x,X_poly,y,l =0)\n",
    "    error_cv = linearRegCostFunction(res.x,Xval_poly,yval,l =0)\n",
    "    \n",
    "    training_cost.append(error_tr)\n",
    "    cv_cost.append(error_cv)\n"
   ]
  },
  {
   "cell_type": "code",
   "execution_count": 375,
   "metadata": {},
   "outputs": [
    {
     "data": {
      "text/plain": [
       "10"
      ]
     },
     "execution_count": 375,
     "metadata": {},
     "output_type": "execute_result"
    }
   ],
   "source": [
    "len(cv_cost)"
   ]
  },
  {
   "cell_type": "code",
   "execution_count": 376,
   "metadata": {},
   "outputs": [
    {
     "data": {
      "image/png": "[encoded data removed]",
      "text/plain": [
       "<matplotlib.figure.Figure at 0x119f5d470>"
      ]
     },
     "metadata": {},
     "output_type": "display_data"
    }
   ],
   "source": [
    "plt.plot(l_candidate, training_cost, label='training')\n",
    "plt.plot(l_candidate, cv_cost, label='cross validation')\n",
    "plt.legend(loc=2)\n",
    "\n",
    "plt.xlabel('lambda')\n",
    "\n",
    "plt.ylabel('cost')\n",
    "plt.show()"
   ]
  },
  {
   "cell_type": "code",
   "execution_count": 377,
   "metadata": {},
   "outputs": [
    {
     "data": {
      "text/plain": [
       "array([  2.13431051,   1.17325668,  34.35910918,  36.83795516,\n",
       "         2.80896507,   2.12107248,  14.71026831,   2.61418439,\n",
       "         3.74017167,   3.73169131,   7.62765885,  22.7524283 ])"
      ]
     },
     "execution_count": 377,
     "metadata": {},
     "output_type": "execute_result"
    }
   ],
   "source": [
    "y"
   ]
  },
  {
   "cell_type": "code",
   "execution_count": 378,
   "metadata": {},
   "outputs": [
    {
     "data": {
      "text/plain": [
       "array([ 11.21758894,   4.36656761,   2.39947367,   2.90176749,\n",
       "         1.50155105,   1.86591875,   0.89813758,   1.19375383,   0.50923142])"
      ]
     },
     "execution_count": 378,
     "metadata": {},
     "output_type": "execute_result"
    }
   ],
   "source": [
    "res.x"
   ]
  },
  {
   "cell_type": "code",
   "execution_count": 379,
   "metadata": {},
   "outputs": [
    {
     "data": {
      "text/plain": [
       "1"
      ]
     },
     "execution_count": 379,
     "metadata": {},
     "output_type": "execute_result"
    }
   ],
   "source": [
    "l_candidate[np.argmin(cv_cost)]"
   ]
  },
  {
   "cell_type": "code",
   "execution_count": null,
   "metadata": {
    "collapsed": true
   },
   "outputs": [],
   "source": []
  }
 ],
 "metadata": {
  "kernelspec": {
   "display_name": "Python 3",
   "language": "python",
   "name": "python3"
  },
  "language_info": {
   "codemirror_mode": {
    "name": "ipython",
    "version": 3
   },
   "file_extension": ".py",
   "mimetype": "text/x-python",
   "name": "python",
   "nbconvert_exporter": "python",
   "pygments_lexer": "ipython3",
   "version": "3.6.3"
  }
 },
 "nbformat": 4,
 "nbformat_minor": 2
}
