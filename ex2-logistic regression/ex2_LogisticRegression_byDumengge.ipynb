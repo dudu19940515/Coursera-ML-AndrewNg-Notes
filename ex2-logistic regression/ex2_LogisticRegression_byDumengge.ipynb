{
 "cells": [
  {
   "cell_type": "markdown",
   "metadata": {},
   "source": [
    "# Logistics Regression"
   ]
  },
  {
   "cell_type": "code",
   "execution_count": 14,
   "metadata": {
    "collapsed": true
   },
   "outputs": [],
   "source": [
    "import pandas as pd\n",
    "import numpy as np\n",
    "import matplotlib.pyplot as plt\n",
    "import seaborn as sns"
   ]
  },
  {
   "cell_type": "code",
   "execution_count": 4,
   "metadata": {
    "collapsed": true
   },
   "outputs": [],
   "source": [
    "data_1 = pd.read_csv('ex2data1.txt',delimiter=',', names=['Exam1 score','Exam2 score','admission'])"
   ]
  },
  {
   "cell_type": "code",
   "execution_count": 5,
   "metadata": {},
   "outputs": [
    {
     "data": {
      "text/html": [
       "<div>\n",
       "<style>\n",
       "    .dataframe thead tr:only-child th {\n",
       "        text-align: right;\n",
       "    }\n",
       "\n",
       "    .dataframe thead th {\n",
       "        text-align: left;\n",
       "    }\n",
       "\n",
       "    .dataframe tbody tr th {\n",
       "        vertical-align: top;\n",
       "    }\n",
       "</style>\n",
       "<table border=\"1\" class=\"dataframe\">\n",
       "  <thead>\n",
       "    <tr style=\"text-align: right;\">\n",
       "      <th></th>\n",
       "      <th>Exam1 score</th>\n",
       "      <th>Exam2 score</th>\n",
       "      <th>admission</th>\n",
       "    </tr>\n",
       "  </thead>\n",
       "  <tbody>\n",
       "    <tr>\n",
       "      <th>0</th>\n",
       "      <td>34.623660</td>\n",
       "      <td>78.024693</td>\n",
       "      <td>0</td>\n",
       "    </tr>\n",
       "    <tr>\n",
       "      <th>1</th>\n",
       "      <td>30.286711</td>\n",
       "      <td>43.894998</td>\n",
       "      <td>0</td>\n",
       "    </tr>\n",
       "    <tr>\n",
       "      <th>2</th>\n",
       "      <td>35.847409</td>\n",
       "      <td>72.902198</td>\n",
       "      <td>0</td>\n",
       "    </tr>\n",
       "    <tr>\n",
       "      <th>3</th>\n",
       "      <td>60.182599</td>\n",
       "      <td>86.308552</td>\n",
       "      <td>1</td>\n",
       "    </tr>\n",
       "    <tr>\n",
       "      <th>4</th>\n",
       "      <td>79.032736</td>\n",
       "      <td>75.344376</td>\n",
       "      <td>1</td>\n",
       "    </tr>\n",
       "  </tbody>\n",
       "</table>\n",
       "</div>"
      ],
      "text/plain": [
       "   Exam1 score  Exam2 score  admission\n",
       "0    34.623660    78.024693          0\n",
       "1    30.286711    43.894998          0\n",
       "2    35.847409    72.902198          0\n",
       "3    60.182599    86.308552          1\n",
       "4    79.032736    75.344376          1"
      ]
     },
     "execution_count": 5,
     "metadata": {},
     "output_type": "execute_result"
    }
   ],
   "source": [
    "data_1.head()"
   ]
  },
  {
   "cell_type": "code",
   "execution_count": 164,
   "metadata": {
    "collapsed": true
   },
   "outputs": [],
   "source": [
    "#训练集中的x1,x2\n",
    "def get_x(df):\n",
    "    score = df.iloc[:,:-1].as_matrix()\n",
    "    #print(score.shape)\n",
    "    m = df.iloc[:,1].size\n",
    "    one = np.ones([m,1])\n",
    "    score =np.hstack((one,score))\n",
    "    return score"
   ]
  },
  {
   "cell_type": "code",
   "execution_count": 105,
   "metadata": {},
   "outputs": [],
   "source": [
    "#整理数据之该整理y\n",
    "def get_y(df):\n",
    "    ad = df.iloc[:,-1].as_matrix()\n",
    "    return ad"
   ]
  },
  {
   "cell_type": "code",
   "execution_count": 110,
   "metadata": {},
   "outputs": [
    {
     "name": "stdout",
     "output_type": "stream",
     "text": [
      "(100, 2)\n"
     ]
    },
    {
     "data": {
      "text/plain": [
       "(100, 3)"
      ]
     },
     "execution_count": 110,
     "metadata": {},
     "output_type": "execute_result"
    }
   ],
   "source": [
    "x = get_x(data_1)\n",
    "y = get_y(data_1)\n",
    "x.shape"
   ]
  },
  {
   "cell_type": "code",
   "execution_count": 35,
   "metadata": {},
   "outputs": [
    {
     "data": {
      "image/png": "[encoded data removed]",
      "text/plain": [
       "<matplotlib.figure.Figure at 0x12093be10>"
      ]
     },
     "metadata": {},
     "output_type": "display_data"
    }
   ],
   "source": [
    "posi_1 = data_1[data_1.iloc[:,-1]==1].iloc[:,:-1]\n",
    "nega_1 = data_1[data_1.iloc[:,-1] ==0].iloc[:,:-1]\n",
    "plt.scatter(posi_1.iloc[:,0],posi_1.iloc[:,1],c= 'r',label = 'Admitted')\n",
    "plt.scatter(nega_1.iloc[:,0],nega_1.iloc[:,1],c= 'b',label = 'Not admitted')\n",
    "plt.legend()\n",
    "plt.xlabel('Exam1 score')\n",
    "plt.ylabel('Exam2 score')\n",
    "plt.show()"
   ]
  },
  {
   "cell_type": "code",
   "execution_count": 37,
   "metadata": {},
   "outputs": [],
   "source": [
    "#归一化\n",
    "def nomalize_data(df):\n",
    "    return df.apply(lambda x:(x.max-x.mean)/x.std())"
   ]
  },
  {
   "cell_type": "markdown",
   "metadata": {},
   "source": [
    "## sigmoid\n",
    "* 绘制sigmoid函数"
   ]
  },
  {
   "cell_type": "code",
   "execution_count": 38,
   "metadata": {
    "collapsed": true
   },
   "outputs": [],
   "source": [
    "def sigmoid_function(z):\n",
    "    return 1/(1+np.exp(-z))"
   ]
  },
  {
   "cell_type": "code",
   "execution_count": 41,
   "metadata": {},
   "outputs": [
    {
     "data": {
      "image/png": "[encoded data removed]",
      "text/plain": [
       "<matplotlib.figure.Figure at 0x12344b9e8>"
      ]
     },
     "metadata": {},
     "output_type": "display_data"
    }
   ],
   "source": [
    "nums = np.arange(-10,10)\n",
    "import seaborn as sns\n",
    "plt.plot(nums, sigmoid_function(nums))\n",
    "plt.xlabel('Value of z')\n",
    "plt.ylabel('sigmoid value')\n",
    "plt.show()"
   ]
  },
  {
   "cell_type": "markdown",
   "metadata": {},
   "source": [
    "## Cost Function and Gradient"
   ]
  },
  {
   "cell_type": "code",
   "execution_count": 126,
   "metadata": {},
   "outputs": [],
   "source": [
    "def cost_function(theta,x,y):\n",
    "    m = x[:,-1].shape[0]\n",
    "    z = x@theta\n",
    "    #print(z.shape,z[:5])\n",
    "    return  -np.mean(y*np.log(sigmoid_function(z))+(1-y)*np.log(1-sigmoid_function(z)))"
   ]
  },
  {
   "cell_type": "code",
   "execution_count": 127,
   "metadata": {},
   "outputs": [
    {
     "data": {
      "text/plain": [
       "array([ 0.,  0.,  0.])"
      ]
     },
     "execution_count": 127,
     "metadata": {},
     "output_type": "execute_result"
    }
   ],
   "source": [
    "theta = np.zeros(3)\n",
    "theta"
   ]
  },
  {
   "cell_type": "code",
   "execution_count": 128,
   "metadata": {},
   "outputs": [
    {
     "data": {
      "text/plain": [
       "0.69314718055994529"
      ]
     },
     "execution_count": 128,
     "metadata": {},
     "output_type": "execute_result"
    }
   ],
   "source": [
    "cost_function(theta,x,y)\n",
    "#检验当theta均为0时的cost_function值"
   ]
  },
  {
   "cell_type": "code",
   "execution_count": 129,
   "metadata": {
    "collapsed": true
   },
   "outputs": [],
   "source": [
    "def gradient(theta,x,y):\n",
    "    m = x[:,-1].shape[0]\n",
    "    return  1/m*(x.T@(sigmoid_function(x@theta)-y))"
   ]
  },
  {
   "cell_type": "code",
   "execution_count": 130,
   "metadata": {},
   "outputs": [
    {
     "data": {
      "text/plain": [
       "array([ -0.1       , -12.00921659, -11.26284221])"
      ]
     },
     "execution_count": 130,
     "metadata": {},
     "output_type": "execute_result"
    }
   ],
   "source": [
    "theta_1 =np.zeros(3)\n",
    "gradient(theta_1,x,y)"
   ]
  },
  {
   "cell_type": "markdown",
   "metadata": {},
   "source": [
    "## 第一个结果 \n",
    "* 利用 minimize模块"
   ]
  },
  {
   "cell_type": "code",
   "execution_count": 131,
   "metadata": {},
   "outputs": [
    {
     "name": "stdout",
     "output_type": "stream",
     "text": [
      "     fun: 0.20349771091213836\n",
      "     jac: array([  2.03252863e-05,   9.40111929e-04,   1.29146014e-03])\n",
      " message: 'Optimization terminated successfully.'\n",
      "    nfev: 72\n",
      "    nhev: 0\n",
      "     nit: 28\n",
      "    njev: 241\n",
      "  status: 0\n",
      " success: True\n",
      "       x: array([-25.15341682,   0.20616839,   0.20140754])\n"
     ]
    }
   ],
   "source": [
    "import scipy.optimize as opt\n",
    "\n",
    "res = opt.minimize(fun=cost_function, x0=theta, args=(x, y), method='Newton-CG', jac=gradient)\n",
    "print(res)"
   ]
  },
  {
   "cell_type": "markdown",
   "metadata": {},
   "source": [
    "## 验证准确率"
   ]
  },
  {
   "cell_type": "code",
   "execution_count": 135,
   "metadata": {
    "collapsed": true
   },
   "outputs": [],
   "source": [
    "from sklearn.metrics import classification_report #评价报告的包"
   ]
  },
  {
   "cell_type": "code",
   "execution_count": 136,
   "metadata": {
    "collapsed": true
   },
   "outputs": [],
   "source": [
    "final_theta_1 = res.x"
   ]
  },
  {
   "cell_type": "code",
   "execution_count": 137,
   "metadata": {
    "collapsed": true
   },
   "outputs": [],
   "source": [
    "def predict(x,theta):\n",
    "    prob = sigmoid_function(x@theta)\n",
    "    return (prob>=0.5).astype(int)"
   ]
  },
  {
   "cell_type": "code",
   "execution_count": 139,
   "metadata": {},
   "outputs": [
    {
     "name": "stdout",
     "output_type": "stream",
     "text": [
      "             precision    recall  f1-score   support\n",
      "\n",
      "          0       0.87      0.85      0.86        40\n",
      "          1       0.90      0.92      0.91        60\n",
      "\n",
      "avg / total       0.89      0.89      0.89       100\n",
      "\n"
     ]
    }
   ],
   "source": [
    "y_predict = predict(x,final_theta_1)\n",
    "print(classification_report(y,y_predict))"
   ]
  },
  {
   "cell_type": "markdown",
   "metadata": {},
   "source": [
    "## 第二个结果 利用 fmin_tnc"
   ]
  },
  {
   "cell_type": "code",
   "execution_count": 132,
   "metadata": {},
   "outputs": [
    {
     "data": {
      "text/plain": [
       "(array([-25.16131865,   0.20623159,   0.20147149]), 36, 0)"
      ]
     },
     "execution_count": 132,
     "metadata": {},
     "output_type": "execute_result"
    }
   ],
   "source": [
    "result = opt.fmin_tnc(func=cost_function, x0=theta, fprime=gradient, args=(x, y))\n",
    "result"
   ]
  },
  {
   "cell_type": "code",
   "execution_count": 140,
   "metadata": {},
   "outputs": [
    {
     "data": {
      "text/plain": [
       "matrix([[-25.16131865,   0.20623159,   0.20147149]])"
      ]
     },
     "execution_count": 140,
     "metadata": {},
     "output_type": "execute_result"
    }
   ],
   "source": [
    "final_theta_2 = np.matrix(result[0])\n",
    "final_theta_2"
   ]
  },
  {
   "cell_type": "code",
   "execution_count": 134,
   "metadata": {},
   "outputs": [
    {
     "data": {
      "text/plain": [
       "0.69314718055994529"
      ]
     },
     "execution_count": 134,
     "metadata": {},
     "output_type": "execute_result"
    }
   ],
   "source": [
    "cost_function(theta_1,x,y)"
   ]
  },
  {
   "cell_type": "code",
   "execution_count": 142,
   "metadata": {},
   "outputs": [],
   "source": [
    "x_1 = np.arange(130,step = 0.1)"
   ]
  },
  {
   "cell_type": "code",
   "execution_count": 149,
   "metadata": {},
   "outputs": [
    {
     "name": "stdout",
     "output_type": "stream",
     "text": [
      "[-124.88815687    1.02363786    1.        ]\n"
     ]
    }
   ],
   "source": [
    "coef = res.x/res.x[2]\n",
    "print(coef)\n",
    "\n",
    "y_1 = -coef[0]-coef[1]*x_1\n"
   ]
  },
  {
   "cell_type": "code",
   "execution_count": 152,
   "metadata": {},
   "outputs": [
    {
     "data": {
      "image/png": "[encoded data removed]",
      "text/plain": [
       "<matplotlib.figure.Figure at 0x123b910f0>"
      ]
     },
     "metadata": {},
     "output_type": "display_data"
    }
   ],
   "source": [
    "sns.set(context=\"notebook\", style=\"ticks\", font_scale=1.5)\n",
    "posi_1 = data_1[data_1.iloc[:,-1]==1].iloc[:,:-1]\n",
    "nega_1 = data_1[data_1.iloc[:,-1] ==0].iloc[:,:-1]\n",
    "plt.scatter(posi_1.iloc[:,0],posi_1.iloc[:,1],c= 'r',label = 'Admitted')\n",
    "plt.scatter(nega_1.iloc[:,0],nega_1.iloc[:,1],c= 'b',label = 'Not admitted')\n",
    "plt.plot(x_1,y_1,'grey')\n",
    "plt.title('Decision Boundary')\n",
    "plt.xlabel('Exam1 score')\n",
    "plt.ylabel('Exam2 score')\n",
    "plt.show()"
   ]
  },
  {
   "cell_type": "markdown",
   "metadata": {},
   "source": [
    "# 正则化"
   ]
  },
  {
   "cell_type": "code",
   "execution_count": 154,
   "metadata": {},
   "outputs": [
    {
     "data": {
      "text/html": [
       "<div>\n",
       "<style>\n",
       "    .dataframe thead tr:only-child th {\n",
       "        text-align: right;\n",
       "    }\n",
       "\n",
       "    .dataframe thead th {\n",
       "        text-align: left;\n",
       "    }\n",
       "\n",
       "    .dataframe tbody tr th {\n",
       "        vertical-align: top;\n",
       "    }\n",
       "</style>\n",
       "<table border=\"1\" class=\"dataframe\">\n",
       "  <thead>\n",
       "    <tr style=\"text-align: right;\">\n",
       "      <th></th>\n",
       "      <th>test1</th>\n",
       "      <th>test2</th>\n",
       "      <th>accepted</th>\n",
       "    </tr>\n",
       "  </thead>\n",
       "  <tbody>\n",
       "    <tr>\n",
       "      <th>0</th>\n",
       "      <td>0.051267</td>\n",
       "      <td>0.69956</td>\n",
       "      <td>1</td>\n",
       "    </tr>\n",
       "    <tr>\n",
       "      <th>1</th>\n",
       "      <td>-0.092742</td>\n",
       "      <td>0.68494</td>\n",
       "      <td>1</td>\n",
       "    </tr>\n",
       "    <tr>\n",
       "      <th>2</th>\n",
       "      <td>-0.213710</td>\n",
       "      <td>0.69225</td>\n",
       "      <td>1</td>\n",
       "    </tr>\n",
       "    <tr>\n",
       "      <th>3</th>\n",
       "      <td>-0.375000</td>\n",
       "      <td>0.50219</td>\n",
       "      <td>1</td>\n",
       "    </tr>\n",
       "    <tr>\n",
       "      <th>4</th>\n",
       "      <td>-0.513250</td>\n",
       "      <td>0.46564</td>\n",
       "      <td>1</td>\n",
       "    </tr>\n",
       "  </tbody>\n",
       "</table>\n",
       "</div>"
      ],
      "text/plain": [
       "      test1    test2  accepted\n",
       "0  0.051267  0.69956         1\n",
       "1 -0.092742  0.68494         1\n",
       "2 -0.213710  0.69225         1\n",
       "3 -0.375000  0.50219         1\n",
       "4 -0.513250  0.46564         1"
      ]
     },
     "execution_count": 154,
     "metadata": {},
     "output_type": "execute_result"
    }
   ],
   "source": [
    "data_2 = pd.read_csv('ex2data2.txt',names = ['test1','test2','accepted'])\n",
    "data_2.head()"
   ]
  },
  {
   "cell_type": "code",
   "execution_count": 155,
   "metadata": {},
   "outputs": [
    {
     "data": {
      "text/html": [
       "<div>\n",
       "<style>\n",
       "    .dataframe thead tr:only-child th {\n",
       "        text-align: right;\n",
       "    }\n",
       "\n",
       "    .dataframe thead th {\n",
       "        text-align: left;\n",
       "    }\n",
       "\n",
       "    .dataframe tbody tr th {\n",
       "        vertical-align: top;\n",
       "    }\n",
       "</style>\n",
       "<table border=\"1\" class=\"dataframe\">\n",
       "  <thead>\n",
       "    <tr style=\"text-align: right;\">\n",
       "      <th></th>\n",
       "      <th>test1</th>\n",
       "      <th>test2</th>\n",
       "      <th>accepted</th>\n",
       "    </tr>\n",
       "  </thead>\n",
       "  <tbody>\n",
       "    <tr>\n",
       "      <th>count</th>\n",
       "      <td>118.000000</td>\n",
       "      <td>118.000000</td>\n",
       "      <td>118.000000</td>\n",
       "    </tr>\n",
       "    <tr>\n",
       "      <th>mean</th>\n",
       "      <td>0.054779</td>\n",
       "      <td>0.183102</td>\n",
       "      <td>0.491525</td>\n",
       "    </tr>\n",
       "    <tr>\n",
       "      <th>std</th>\n",
       "      <td>0.496654</td>\n",
       "      <td>0.519743</td>\n",
       "      <td>0.502060</td>\n",
       "    </tr>\n",
       "    <tr>\n",
       "      <th>min</th>\n",
       "      <td>-0.830070</td>\n",
       "      <td>-0.769740</td>\n",
       "      <td>0.000000</td>\n",
       "    </tr>\n",
       "    <tr>\n",
       "      <th>25%</th>\n",
       "      <td>-0.372120</td>\n",
       "      <td>-0.254385</td>\n",
       "      <td>0.000000</td>\n",
       "    </tr>\n",
       "    <tr>\n",
       "      <th>50%</th>\n",
       "      <td>-0.006336</td>\n",
       "      <td>0.213455</td>\n",
       "      <td>0.000000</td>\n",
       "    </tr>\n",
       "    <tr>\n",
       "      <th>75%</th>\n",
       "      <td>0.478970</td>\n",
       "      <td>0.646562</td>\n",
       "      <td>1.000000</td>\n",
       "    </tr>\n",
       "    <tr>\n",
       "      <th>max</th>\n",
       "      <td>1.070900</td>\n",
       "      <td>1.108900</td>\n",
       "      <td>1.000000</td>\n",
       "    </tr>\n",
       "  </tbody>\n",
       "</table>\n",
       "</div>"
      ],
      "text/plain": [
       "            test1       test2    accepted\n",
       "count  118.000000  118.000000  118.000000\n",
       "mean     0.054779    0.183102    0.491525\n",
       "std      0.496654    0.519743    0.502060\n",
       "min     -0.830070   -0.769740    0.000000\n",
       "25%     -0.372120   -0.254385    0.000000\n",
       "50%     -0.006336    0.213455    0.000000\n",
       "75%      0.478970    0.646562    1.000000\n",
       "max      1.070900    1.108900    1.000000"
      ]
     },
     "execution_count": 155,
     "metadata": {},
     "output_type": "execute_result"
    }
   ],
   "source": [
    "data_2.describe()"
   ]
  },
  {
   "cell_type": "code",
   "execution_count": 162,
   "metadata": {},
   "outputs": [
    {
     "data": {
      "image/png": "[encoded data removed]",
      "text/plain": [
       "<matplotlib.figure.Figure at 0x123fe3898>"
      ]
     },
     "metadata": {},
     "output_type": "display_data"
    }
   ],
   "source": [
    "fig =plt.subplots(figsize = (14,8))\n",
    "posi_2 = data_2[data_2.iloc[:,-1]==1]\n",
    "nega_2 = data_2[data_2.iloc[:,-1]==0]\n",
    "plt.scatter(posi_2.iloc[:,0],posi_2.iloc[:,1],s = 50,c  ='b',marker = 'o',label = 'Accepted')\n",
    "plt.scatter(nega_2.iloc[:,0], nega_2.iloc[:,1],s = 50,c = 'r',marker = 'x',label = 'Rejected')\n",
    "plt.legend(loc=4,)\n",
    "plt.xlabel('Test 1 Score')\n",
    "plt.ylabel('Test 2 Score')\n",
    "plt.show()"
   ]
  },
  {
   "cell_type": "markdown",
   "metadata": {},
   "source": [
    "# regularized cost（正则化代价函数）\n",
    "$$J\\left( \\theta  \\right)=\\frac{1}{m}\\sum\\limits_{i=1}^{m}{[-{{y}^{(i)}}\\log \\left( {{h}_{\\theta }}\\left( {{x}^{(i)}} \\right) \\right)-\\left( 1-{{y}^{(i)}} \\right)\\log \\left( 1-{{h}_{\\theta }}\\left( {{x}^{(i)}} \\right) \\right)]}+\\frac{\\lambda }{2m}\\sum\\limits_{j=1}^{n}{\\theta _{j}^{2}}$$"
   ]
  },
  {
   "cell_type": "code",
   "execution_count": 175,
   "metadata": {},
   "outputs": [
    {
     "name": "stdout",
     "output_type": "stream",
     "text": [
      "(118, 3) (118,)\n"
     ]
    }
   ],
   "source": [
    "x_2 = get_x(data_2)\n",
    "y_2 = get_y(data_2)\n",
    "print(x_2.shape,y_2.shape)\n"
   ]
  },
  {
   "cell_type": "code",
   "execution_count": 169,
   "metadata": {},
   "outputs": [],
   "source": [
    "def feature_mappint(x1,x2,power,nd_array =False):\n",
    "    data = {'f{}{}'.format(i,p): np.power(x1,i)*np.power(x2,p)\n",
    "           for i in range(power+1)\n",
    "           for p in range(power-i+1)}\n",
    "    if nd_array:\n",
    "        return pd.DataFrame(data).as_matrix()\n",
    "    else:\n",
    "        return pd.DataFrame(data)"
   ]
  },
  {
   "cell_type": "code",
   "execution_count": 194,
   "metadata": {
    "scrolled": true
   },
   "outputs": [
    {
     "name": "stdout",
     "output_type": "stream",
     "text": [
      "(118, 28)\n"
     ]
    }
   ],
   "source": [
    "data = feature_mappint(x_2[:,1],x_2[:,2],power = 6,nd_array=True)\n",
    "print(data.shape)\n"
   ]
  },
  {
   "cell_type": "code",
   "execution_count": 195,
   "metadata": {},
   "outputs": [
    {
     "data": {
      "text/plain": [
       "118"
      ]
     },
     "execution_count": 195,
     "metadata": {},
     "output_type": "execute_result"
    }
   ],
   "source": [
    "y_2.shape[0]"
   ]
  },
  {
   "cell_type": "code",
   "execution_count": 196,
   "metadata": {
    "collapsed": true
   },
   "outputs": [],
   "source": [
    "def regularized_cost(theta,x,y):\n",
    "    theta_1 = theta[1:]\n",
    "    m = y.shape[0]\n",
    "    regularized_tem = 1/(2*m)*(np.power(theta_1,2).sum())\n",
    "    return cost_function(theta,x,y)+regularized_tem"
   ]
  },
  {
   "cell_type": "code",
   "execution_count": 206,
   "metadata": {
    "collapsed": true
   },
   "outputs": [],
   "source": [
    "def regularized_gradient(theta,x,y,l =1):\n",
    "    theta_1 = theta[1:]\n",
    "    m = y.shape[0]\n",
    "    \n",
    "    regularized_theta = (1/m)*theta_1\n",
    "    regularized_term  =np.concatenate([np.array([0]),regularized_theta])\n",
    "   # print(regularized_term.shape)\n",
    "    return gradient(theta,x,y) + regularized_term\n"
   ]
  },
  {
   "cell_type": "code",
   "execution_count": null,
   "metadata": {},
   "outputs": [],
   "source": []
  },
  {
   "cell_type": "code",
   "execution_count": 207,
   "metadata": {},
   "outputs": [
    {
     "data": {
      "text/plain": [
       "array([  8.47457627e-03,   7.77711864e-05,   3.76648474e-02,\n",
       "         2.34764889e-02,   3.93028171e-02,   3.10079849e-02,\n",
       "         3.87936363e-02,   1.87880932e-02,   1.15013308e-02,\n",
       "         8.19244468e-03,   3.09593720e-03,   4.47629067e-03,\n",
       "         1.37646175e-03,   5.03446395e-02,   7.32393391e-03,\n",
       "         1.28600503e-02,   5.83822078e-03,   7.26504316e-03,\n",
       "         1.83559872e-02,   2.23923907e-03,   3.38643902e-03,\n",
       "         4.08503006e-04,   3.93486234e-02,   4.32983232e-03,\n",
       "         6.31570797e-03,   1.99707467e-02,   1.09740238e-03,\n",
       "         3.10312442e-02])"
      ]
     },
     "execution_count": 207,
     "metadata": {},
     "output_type": "execute_result"
    }
   ],
   "source": [
    "theta_2 = np.zeros(data.shape[1])\n",
    "regularized_gradient(theta_2,data,y_2)"
   ]
  },
  {
   "cell_type": "markdown",
   "metadata": {},
   "source": [
    "## 拟合参数"
   ]
  },
  {
   "cell_type": "code",
   "execution_count": 208,
   "metadata": {
    "collapsed": true
   },
   "outputs": [],
   "source": [
    "import scipy.optimize as opt"
   ]
  },
  {
   "cell_type": "code",
   "execution_count": 209,
   "metadata": {},
   "outputs": [
    {
     "data": {
      "text/plain": [
       "0.6931471805599454"
      ]
     },
     "execution_count": 209,
     "metadata": {},
     "output_type": "execute_result"
    }
   ],
   "source": [
    "regularized_cost(theta_2,data,y_2)"
   ]
  },
  {
   "cell_type": "code",
   "execution_count": 210,
   "metadata": {},
   "outputs": [],
   "source": [
    "res_2 = opt.minimize(fun = regularized_cost,x0 = theta_2, args = (data,y_2),method = 'Newton-CG', jac = regularized_gradient)"
   ]
  },
  {
   "cell_type": "code",
   "execution_count": 211,
   "metadata": {},
   "outputs": [
    {
     "data": {
      "text/plain": [
       "     fun: 0.5290027297126634\n",
       "     jac: array([  2.03955271e-07,   1.07887234e-07,   4.17452497e-08,\n",
       "         3.72793652e-08,  -5.79620449e-09,   1.66759844e-08,\n",
       "         9.61245352e-09,  -1.77664287e-08,  -3.61578102e-09,\n",
       "        -1.54630018e-08,  -3.27623600e-09,  -3.45118439e-09,\n",
       "        -4.05476892e-09,  -4.14105012e-08,   4.00885103e-09,\n",
       "        -2.03687041e-08,  -1.13990358e-09,  -9.20056092e-09,\n",
       "        -2.14158287e-09,  -4.74272220e-09,  -8.31876535e-09,\n",
       "        -3.46210984e-09,  -2.92655518e-08,  -1.55948373e-09,\n",
       "        -8.88473950e-09,  -8.80406862e-09,  -3.94570827e-10,\n",
       "        -3.07391561e-08])\n",
       " message: 'Optimization terminated successfully.'\n",
       "    nfev: 7\n",
       "    nhev: 0\n",
       "     nit: 6\n",
       "    njev: 72\n",
       "  status: 0\n",
       " success: True\n",
       "       x: array([ 1.2727393 ,  1.18108847, -1.43166436, -0.1751304 , -1.19281674,\n",
       "       -0.45635712, -0.92465192,  0.62527148, -0.9174238 , -0.35723987,\n",
       "       -0.27470662, -0.29537813, -0.14388723, -2.01996096, -0.36553428,\n",
       "       -0.61555547, -0.27778449, -0.32737973,  0.12400653, -0.05098939,\n",
       "       -0.04473092,  0.01556661, -1.45815573, -0.20600609, -0.29243136,\n",
       "       -0.24218814,  0.02777162, -1.04320239])"
      ]
     },
     "execution_count": 211,
     "metadata": {},
     "output_type": "execute_result"
    }
   ],
   "source": [
    "res_2"
   ]
  },
  {
   "cell_type": "code",
   "execution_count": 212,
   "metadata": {},
   "outputs": [
    {
     "name": "stdout",
     "output_type": "stream",
     "text": [
      "             precision    recall  f1-score   support\n",
      "\n",
      "          0       0.90      0.75      0.82        60\n",
      "          1       0.78      0.91      0.84        58\n",
      "\n",
      "avg / total       0.84      0.83      0.83       118\n",
      "\n"
     ]
    }
   ],
   "source": [
    "fina_theta = res_2.x\n",
    "y_predict_2 = predict(data,fina_theta)\n",
    "print(classification_report(y_2, y_predict_2))"
   ]
  },
  {
   "cell_type": "code",
   "execution_count": 232,
   "metadata": {
    "collapsed": true
   },
   "outputs": [],
   "source": [
    "def find_decision_boundary(density,power, theta,threshold):\n",
    "    t1 = np.linspace(-1, 1.5, density)\n",
    "    t2 = np.linspace(-1, 1.5, density)\n",
    "\n",
    "    cordinates = [(x, y) for x in t1 for y in t2]\n",
    "    x_cord, y_cord = zip(*cordinates)\n",
    "    mapped_cord = feature_mappint(x_cord, y_cord, power)  # this is a dataframe\n",
    "\n",
    "    inner_product = mapped_cord.as_matrix() @ theta\n",
    "\n",
    "    decision = mapped_cord[np.abs(inner_product) < threshold]\n",
    "\n",
    "    return decision.f10, decision.f01"
   ]
  },
  {
   "cell_type": "code",
   "execution_count": 233,
   "metadata": {},
   "outputs": [],
   "source": [
    "def draw_boundary(theta,power,l):\n",
    "    density = 1000\n",
    "    threshhold = 2 *10**-3\n",
    "    x,y = find_decision_boundary(density,power,theta,threshhold)\n",
    "    df = pd.read_csv('ex2data2.txt', names=['test1', 'test2', 'accepted'])\n",
    "    sns.lmplot('test1', 'test2', hue='accepted', data=df, size=6, fit_reg=False, scatter_kws={\"s\": 100})\n",
    "\n",
    "    plt.scatter(x, y, c='R', s=10)\n",
    "    plt.title('Decision boundary')\n",
    "    plt.show()"
   ]
  },
  {
   "cell_type": "code",
   "execution_count": 234,
   "metadata": {},
   "outputs": [
    {
     "data": {
      "image/png": "[encoded data removed]",
      "text/plain": [
       "<matplotlib.figure.Figure at 0x120db85f8>"
      ]
     },
     "metadata": {},
     "output_type": "display_data"
    }
   ],
   "source": [
    "draw_boundary(fina_theta,power=6,l=1)#lambda=1"
   ]
  },
  {
   "cell_type": "code",
   "execution_count": 235,
   "metadata": {},
   "outputs": [
    {
     "data": {
      "image/png": "[encoded data removed]",
      "text/plain": [
       "<matplotlib.figure.Figure at 0x120ec9e10>"
      ]
     },
     "metadata": {},
     "output_type": "display_data"
    }
   ],
   "source": [
    "draw_boundary(fina_theta,power=6, l=0) "
   ]
  },
  {
   "cell_type": "code",
   "execution_count": null,
   "metadata": {
    "collapsed": true
   },
   "outputs": [],
   "source": []
  }
 ],
 "metadata": {
  "kernelspec": {
   "display_name": "Python 3",
   "language": "python",
   "name": "python3"
  },
  "language_info": {
   "codemirror_mode": {
    "name": "ipython",
    "version": 3
   },
   "file_extension": ".py",
   "mimetype": "text/x-python",
   "name": "python",
   "nbconvert_exporter": "python",
   "pygments_lexer": "ipython3",
   "version": "3.6.3"
  }
 },
 "nbformat": 4,
 "nbformat_minor": 2
}
